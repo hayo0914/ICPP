{
 "cells": [
  {
   "cell_type": "code",
   "execution_count": null,
   "metadata": {},
   "outputs": [],
   "source": [
    "\"\"\"\n",
    "[クラスタリング]\n",
    "物事を似た者同士が同じグループになるように分類するプロセスとして定義される.\n",
    "もっともよく使われる教師なし学習の技術は, クラスタリングである.\n",
    "\n",
    "クラスタリングは1つの最適化問題である.\n",
    "ある制約のもとである目的関数を最適化するクラスタの集合を求めることがゴールである.\n",
    "2つの標本がどれだけ近いかを表す距離という計量が与えられているとき, 同じクラスタに属している標本間の距離を最小化する.\n",
    "つまりクラスタ内の標本間の創意性を最小化するように目的関数を設定する必要がある.\n",
    "\"\"\""
   ]
  },
  {
   "cell_type": "code",
   "execution_count": null,
   "metadata": {},
   "outputs": [],
   "source": [
    "\"\"\"\n",
    "[変動性]\n",
    "クラスタ内の標本同士がどれくらい異なっているか、という分散に似た基準として、変動性と呼ばれるものがある.\n",
    "\n",
    "変動制は,\n",
    "variability(c) = sum(distance(mean(c), e)**2)\n",
    "で定義される.\n",
    "\n",
    "mean(c)は, クラスタc内の全てのサンプルの特徴ベクトルの平均である. ベクトルの平均とは, 成分ごとに平均を計算したものである.\n",
    "\n",
    "単一のクラスタでの分散の定義は, 次のようにクラスタ集合Cの相違性を定義するのに拡張される.\n",
    "\n",
    "dissimilarity(C) = sum(variability(c))\n",
    "\n",
    "変動性をクラスタのサイズで割っていないため, サイズが大きいほど相違性が増えることに注意.\n",
    "そういう設計である.\n",
    "\n",
    "\"\"\""
   ]
  }
 ],
 "metadata": {
  "kernelspec": {
   "display_name": "Python 3",
   "language": "python",
   "name": "python3"
  },
  "language_info": {
   "codemirror_mode": {
    "name": "ipython",
    "version": 3
   },
   "file_extension": ".py",
   "mimetype": "text/x-python",
   "name": "python",
   "nbconvert_exporter": "python",
   "pygments_lexer": "ipython3",
   "version": "3.6.4"
  }
 },
 "nbformat": 4,
 "nbformat_minor": 2
}
