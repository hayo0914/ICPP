{
 "cells": [
  {
   "cell_type": "code",
   "execution_count": 18,
   "metadata": {},
   "outputs": [],
   "source": [
    "\"\"\"\n",
    "[クラスタリング]\n",
    "物事を似た者同士が同じグループになるように分類するプロセスとして定義される.\n",
    "もっともよく使われる教師なし学習の技術は, クラスタリングである.\n",
    "\n",
    "クラスタリングは1つの最適化問題である.\n",
    "ある制約のもとである目的関数を最適化するクラスタの集合を求めることがゴールである.\n",
    "2つの標本がどれだけ近いかを表す距離という計量が与えられているとき, 同じクラスタに属している標本間の距離を最小化する.\n",
    "つまりクラスタ内の標本間の創意性を最小化するように目的関数を設定する必要がある.\n",
    "\"\"\"\n",
    "pass"
   ]
  },
  {
   "cell_type": "code",
   "execution_count": 17,
   "metadata": {},
   "outputs": [],
   "source": [
    "\"\"\"\n",
    "[変動性]\n",
    "クラスタ内の標本同士がどれくらい異なっているか、という分散に似た基準として、変動性と呼ばれるものがある.\n",
    "\n",
    "変動制は,\n",
    "variability(c) = sum(distance(mean(c), e)**2)\n",
    "で定義される.\n",
    "\n",
    "mean(c)は, クラスタc内の全てのサンプルの特徴ベクトルの平均である. ベクトルの平均とは, 成分ごとに平均を計算したものである.\n",
    "\n",
    "単一のクラスタでの分散の定義は, 次のようにクラスタ集合Cの相違性を定義するのに拡張される.\n",
    "\n",
    "dissimilarity(C) = sum(variability(c))\n",
    "\n",
    "変動性をクラスタのサイズで割っていないため, サイズが大きいほど相違性が増えることに注意.\n",
    "そういう設計である.\n",
    "\n",
    "\"\"\"\n",
    "pass"
   ]
  },
  {
   "cell_type": "code",
   "execution_count": 6,
   "metadata": {},
   "outputs": [],
   "source": [
    "\"\"\"\n",
    "[k-平均クラスタリング(k-means clustering)]\n",
    "もっとも広く利用されているクラスタリング手法\n",
    "\n",
    "標本の集合を次の２つの条件を満たすようにk個のクラスタに分割する\n",
    "1. それぞれの標本は, その標本がもっとも近い重心に対するクラスタに属する.\n",
    "2. クラスタ集合全体の相違性が最小化されている.\n",
    "\n",
    "最適解を見つけることは計算上、手に負えないものである. ただし良い近似解を見つけるのに利用される効率的な貪欲アルゴリズムがある.\n",
    "\n",
    "- 擬似コード\n",
    "k個の標本を, 初期のk個の重心として選ぶ\n",
    "以下を繰り返す:\n",
    "    1) 各標本を最も近い重心に対するクラスタに割り当て, k個のクラスタを作る\n",
    "    2) 新たなk個の重心として, それぞれのクラスタ内にある標本の平均を計算する\n",
    "    3) どの重心も, 前の繰り返しのものと変化なければ, 今現在のクラスタ集合を返す\n",
    "    \n",
    "k-平均法の1つの問題は, 返ってくる値がランダムに選んだ初期の重心に依存するということである.\n",
    "重心の初期値が明らかに不運だったなら, アルゴリズムは大域的最適化からほど遠い局所最適解に陥ってしまう.\n",
    "実際には, この問題は初期値の重心をランダムに選んでk-平均法をなんども実行し, 最小の相違性を持つクラスタリングを選ぶことによって解決される.\n",
    "\"\"\"\n",
    "pass"
   ]
  },
  {
   "cell_type": "code",
   "execution_count": 5,
   "metadata": {},
   "outputs": [],
   "source": [
    "import pylab\n",
    "\n",
    "def minkowskiDist(v1, v2, p):\n",
    "    \"\"\"v1, v2は長さの等しい数値数列であるとする\n",
    "       v1, v2の, p次のミンコウスキ距離を返す\"\"\"\n",
    "    dist = 0.0\n",
    "    for i in range(len(v1)):\n",
    "        dist += abs(v1[i] - v2[i])**p\n",
    "    return dist**(1/p)"
   ]
  },
  {
   "cell_type": "code",
   "execution_count": 7,
   "metadata": {},
   "outputs": [],
   "source": [
    "class Example(object):\n",
    "    \"\"\"標本を表すクラス\"\"\"\n",
    "\n",
    "    def __init__(self, name, features, label = None):\n",
    "        # featuresはfloatからなる配列である\n",
    "        self.name = name\n",
    "        self.features = features\n",
    "        self.label = label\n",
    "\n",
    "    def dimentionality(self):\n",
    "        \"\"\"特徴点を返す\"\"\"\n",
    "        return len(self.features)\n",
    "\n",
    "    def getFeatures(self):\n",
    "        return self.features[:]\n",
    "\n",
    "    def getLabel(self):\n",
    "        return self.label\n",
    "\n",
    "    def getName(self):\n",
    "        return self.name\n",
    "\n",
    "    def distance(self, other):\n",
    "        \"\"\"他の標本とのミンコウスキ距離を返す\"\"\"\n",
    "        return minkowskiDist(self.features, other.getFeatures(), 2)\n",
    "\n",
    "    def __str__(self):\n",
    "        return self.name + ':' + str(self.features) + ':' + self(self.label)"
   ]
  },
  {
   "cell_type": "code",
   "execution_count": 79,
   "metadata": {},
   "outputs": [],
   "source": [
    "class Cluster(object):\n",
    "\n",
    "    def __init__(self, examples):\n",
    "        \"\"\"examplesはExampleの, 空でないリストとする\"\"\"\n",
    "        self.examples = examples\n",
    "        self.centroid = self.computeCentroid()\n",
    "\n",
    "    def update(self, examples):\n",
    "        \"\"\"examplesはExampleの, 空でないリストとする\n",
    "           examplesを更新し, 重心の変化の総量を返す\"\"\"\n",
    "        oldCentroid = self.centroid\n",
    "        self.examples = examples\n",
    "        self.centroid = self.computeCentroid()\n",
    "        return oldCentroid.distance(self.centroid)\n",
    "\n",
    "    def computeCentroid(self):\n",
    "        \"\"\"クラスターの重心を計算する\n",
    "        　　　　　重心: クラスター内の標本の特徴点の平均\"\"\"\n",
    "        vals = pylab.array([0.0] * self.examples[0].dimentionality())\n",
    "        for e in self.examples: # 平均を計算\n",
    "            vals += e.getFeatures()\n",
    "        centroid = Example('centroid', vals/len(self.examples))\n",
    "        return centroid\n",
    "\n",
    "    def getCentroid(self):\n",
    "        return self.centroid\n",
    "\n",
    "    def variability(self):\n",
    "        \"\"\"クラスターの変動率を返す\n",
    "             変動率: (重心と各標本の距離の差)**2として計算する\"\"\"\n",
    "        totDist = 0.0\n",
    "        for e in self.examples:\n",
    "            totDist += (e.distance(self.centroid))**2\n",
    "        return totDist\n",
    "\n",
    "    def members(self):\n",
    "        for e in self.examples:\n",
    "            yield e\n",
    "\n",
    "    def __str__(self):\n",
    "        names = []\n",
    "        for e in self.examples:\n",
    "            names.append(e.getName())\n",
    "        names.sort()\n",
    "        result = 'Cluster with centroid ' + str(self.centroid.getFeatures()) + ' contains:\\n '\n",
    "        for e in names:\n",
    "            result = result + e + ', '\n",
    "        return result[:-2] # remove comma and space"
   ]
  },
  {
   "cell_type": "code",
   "execution_count": 66,
   "metadata": {},
   "outputs": [],
   "source": [
    "import random\n",
    "import pylab\n",
    "\n",
    "def dissimilarity(clusters):\n",
    "    \"\"\"クラスタリングの相違性を計算する\n",
    "         相違性: 各クラスターの変動率の合計として計算する\"\"\"\n",
    "    totDist = 0.0\n",
    "    for c in clusters:\n",
    "        totDist += c.variability()\n",
    "    return totDist\n",
    "\n",
    "def trykmeans(examples, numClusters, numTrials, verbose = False):\n",
    "    \"\"\"kmeans関数をnumTrials回呼び出し, もっとも類似性が小さいクラスタリングを返す\"\"\"\n",
    "    best = kmeans(examples, numClusters, verbose)\n",
    "    minDissimilarity = dissimilarity(best)\n",
    "    trial = 1\n",
    "    while trial < numTrials:\n",
    "        try:\n",
    "            clusters = kmeans(examples, numClusters, verbose)\n",
    "        except ValueError:\n",
    "            continue\n",
    "        currDissimilarity = dissimilarity(clusters)\n",
    "        if currDissimilarity < minDissimilarity:\n",
    "            beest = clusters\n",
    "            minDissimilarity = currDissimilarity\n",
    "        trial += 1\n",
    "    return best\n",
    "\n",
    "def kmeans(examples, k, verbose = False):\n",
    "    \"\"\"初期のk個のランダムな重心を選び, それぞれに重心に対してクラスタを生成する\"\"\"\n",
    "    initialCentroids = random.sample(examples, k)\n",
    "    clusters = []\n",
    "    for e in initialCentroids:\n",
    "        clusters.append(Cluster([e]))\n",
    "\n",
    "    # 重心が変化しなくなるまで繰り返す\n",
    "    converged = False # 収束したか否かのフラグ\n",
    "    numIterations = 0\n",
    "    while not converged:\n",
    "        numIterations += 1\n",
    "        # k個の空のリストからなるリストを作る\n",
    "        newClusters = []\n",
    "        for i in range(k):\n",
    "            newClusters.append([])\n",
    "        # 標本それぞれeについて\n",
    "        for e in examples:\n",
    "            # eに最も近い重心を見つける\n",
    "            smallestDistance = e.distance(clusters[0].getCentroid())\n",
    "            index = 0\n",
    "            for i in range(1, k):\n",
    "                distance = e.distance(clusters[i].getCentroid())\n",
    "                if distance < smallestDistance:\n",
    "                    smallestDistance = distance\n",
    "                    index = i\n",
    "            # 適切なクラスターの標本リストにeを加える\n",
    "            newClusters[index].append(e)\n",
    "        # 空のクラスターを避ける\n",
    "        for c in newClusters:\n",
    "            if len(c) == 0:\n",
    "                raise ValueError('Empty Cluster')\n",
    "        # クラスターを更新する; 重心が変化しているかチェック\n",
    "        converged = True\n",
    "        for i in range(k):\n",
    "            if clusters[i].update(newClusters[i]) > 0.0:\n",
    "                converged = False\n",
    "        if verbose:\n",
    "            print('Iteration #' + str(numIterations))\n",
    "            for c in clusters:\n",
    "                print(c)\n",
    "            print('') # 空行\n",
    "    return clusters\n",
    "\n",
    "def genDistribution(xMean, xSD, yMean, ySD, n, namePrefix):\n",
    "    samples = []\n",
    "    for s in range(n):\n",
    "        x = random.gauss(xMean, xSD) # 平均, 分散を指定してランダム値を生成\n",
    "        y = random.gauss(yMean, ySD)\n",
    "        samples.append(Example(namePrefix + str(s), [x, y]))\n",
    "    return samples\n",
    "\n",
    "def plotSamples(samples, marker):\n",
    "    xVals, yVals = [], []\n",
    "    for s in samples:\n",
    "        x = s.getFeatures()[0]\n",
    "        y = s.getFeatures()[1]\n",
    "        pylab.annotate(\n",
    "            s.getName(),\n",
    "            xy = (x,y),\n",
    "            xytext = (x+0.13, y-0.07),\n",
    "            fontsize = 'x-large')\n",
    "        xVals.append(x)\n",
    "        yVals.append(y)\n",
    "    pylab.plot(xVals, yVals, marker)\n",
    "    \n",
    "def contrivedTest(numTrials, k, verbose = False):\n",
    "    xMean = 3\n",
    "    xSD = 1\n",
    "    yMean = 5\n",
    "    ySD = 1\n",
    "    n = 10\n",
    "    d1Samples = genDistribution(xMean, xSD, yMean, ySD, n, 'A')\n",
    "    plotSamples(d1Samples, 'k^')\n",
    "    d2Samples = genDistribution(xMean + 3, xSD, yMean + 1, ySD, n, 'B')\n",
    "    plotSamples(d2Samples, 'ko')\n",
    "    d3Samples = genDistribution(xMean, xSD, yMean + 3, ySD, n, 'C')\n",
    "    plotSamples(d3Samples, 'kx')\n",
    "    # k-平均法を実行\n",
    "    clusters = trykmeans(d1Samples + d2Samples + d3Samples, k, numTrials, verbose)\n",
    "    pylab.ylim(0, 11)\n",
    "    print('Final result has dissimilarity', round(dissimilarity(clusters), 3))\n",
    "    for c in clusters:\n",
    "        print('', c)\n"
   ]
  },
  {
   "cell_type": "code",
   "execution_count": 78,
   "metadata": {},
   "outputs": [
    {
     "name": "stdout",
     "output_type": "stream",
     "text": [
      "Iteration #1\n",
      "Cluster with centroid [2.77125245 6.94852081] contains:\n",
      " A2, A5, A8, C0, C1, C2, C3, C4, C5, C6, C7, C8, C9\n",
      "Cluster with centroid [4.57691177 5.55916852] contains:\n",
      " A0, A1, A3, A4, A6, A7, A9, B0, B1, B2, B3, B4, B5, B6, B7, B8, B9\n",
      "\n",
      "Iteration #2\n",
      "Cluster with centroid [2.85450574 7.10490975] contains:\n",
      " A2, A5, A6, A8, C0, C1, C2, C4, C5, C6, C7, C8, C9\n",
      "Cluster with centroid [4.51324748 5.43957698] contains:\n",
      " A0, A1, A3, A4, A7, A9, B0, B1, B2, B3, B4, B5, B6, B7, B8, B9, C3\n",
      "\n",
      "Iteration #3\n",
      "Cluster with centroid [2.82716168 7.21851633] contains:\n",
      " A2, A5, A6, C0, C1, C2, C4, C5, C6, C7, C8, C9\n",
      "Cluster with centroid [4.43932454 5.45635775] contains:\n",
      " A0, A1, A3, A4, A7, A8, A9, B0, B1, B2, B3, B4, B5, B6, B7, B8, B9, C3\n",
      "\n",
      "Iteration #4\n",
      "Cluster with centroid [2.82716168 7.21851633] contains:\n",
      " A2, A5, A6, C0, C1, C2, C4, C5, C6, C7, C8, C9\n",
      "Cluster with centroid [4.43932454 5.45635775] contains:\n",
      " A0, A1, A3, A4, A7, A8, A9, B0, B1, B2, B3, B4, B5, B6, B7, B8, B9, C3\n",
      "\n",
      "Final result has dissimilarity 61.024\n",
      " Cluster with centroid [2.82716168 7.21851633] contains:\n",
      " A2, A5, A6, C0, C1, C2, C4, C5, C6, C7, C8, C9\n",
      " Cluster with centroid [4.43932454 5.45635775] contains:\n",
      " A0, A1, A3, A4, A7, A8, A9, B0, B1, B2, B3, B4, B5, B6, B7, B8, B9, C3\n"
     ]
    },
    {
     "data": {
      "image/png": "[encoded data removed]",
      "text/plain": [
       "<matplotlib.figure.Figure at 0x113535940>"
      ]
     },
     "metadata": {},
     "output_type": "display_data"
    }
   ],
   "source": [
    "contrivedTest(1, 2, True)"
   ]
  },
  {
   "cell_type": "code",
   "execution_count": 76,
   "metadata": {},
   "outputs": [
    {
     "name": "stdout",
     "output_type": "stream",
     "text": [
      "Final result has dissimilarity 85.291\n",
      " Cluster with centroid [2.82922807 7.40135967] contains:\n",
      " A1, A2, A3, A6, A7, A8, C0, C1, C2, C3, C4, C5, C6, C7, C8, C9\n",
      " Cluster with centroid [5.96623246 5.46546383] contains:\n",
      " A0, A4, A5, A9, B0, B1, B2, B3, B4, B5, B6, B7, B8, B9\n"
     ]
    },
    {
     "data": {
      "image/png": "[encoded data removed]",
      "text/plain": [
       "<matplotlib.figure.Figure at 0x1132fc5f8>"
      ]
     },
     "metadata": {},
     "output_type": "display_data"
    }
   ],
   "source": [
    "contrivedTest(5, 2)"
   ]
  },
  {
   "cell_type": "code",
   "execution_count": 58,
   "metadata": {},
   "outputs": [
    {
     "name": "stdout",
     "output_type": "stream",
     "text": [
      "Final result has dissimilarity 99.649\n",
      " Cluster with centroid [2.63401686 8.47590535] contains:\n",
      " A7, C0, C1, C4, C6, C7, C8, C9\n",
      " Cluster with centroid [4.50480487 5.68487199] contains:\n",
      " A0, A1, A2, A3, A4, A5, A6, A8, A9, B0, B1, B2, B3, B4, B5, B6, B7, B8, B9, C2, C3, C5\n"
     ]
    },
    {
     "data": {
      "image/png": "[encoded data removed]",
      "text/plain": [
       "<matplotlib.figure.Figure at 0x112f9f390>"
      ]
     },
     "metadata": {},
     "output_type": "display_data"
    }
   ],
   "source": [
    "contrivedTest(40, 2)"
   ]
  },
  {
   "cell_type": "code",
   "execution_count": 59,
   "metadata": {},
   "outputs": [
    {
     "name": "stdout",
     "output_type": "stream",
     "text": [
      "Final result has dissimilarity 28.404\n",
      " Cluster with centroid [3.21317809 7.43868018] contains:\n",
      " A4, A5, A7, B5, C0, C1, C2, C3, C4, C5, C6, C7, C8, C9\n",
      " Cluster with centroid [3.08322255 4.78761588] contains:\n",
      " A0, A1, A2, A3, A6, A8, A9, B2\n",
      " Cluster with centroid [5.95280842 6.07518011] contains:\n",
      " B0, B1, B3, B4, B6, B7, B8, B9\n"
     ]
    },
    {
     "data": {
      "image/png": "[encoded data removed]",
      "text/plain": [
       "<matplotlib.figure.Figure at 0x1134851d0>"
      ]
     },
     "metadata": {},
     "output_type": "display_data"
    }
   ],
   "source": [
    "contrivedTest(40, 3)"
   ]
  },
  {
   "cell_type": "code",
   "execution_count": 81,
   "metadata": {},
   "outputs": [
    {
     "name": "stdout",
     "output_type": "stream",
     "text": [
      "Final result has dissimilarity 9.571\n",
      " Cluster with centroid [3.6494109  4.77072458] contains:\n",
      " A1, A3, A7, A8, A9\n",
      " Cluster with centroid [5.98474814 6.7458711 ] contains:\n",
      " B0, B1, B2, B5, B6\n",
      " Cluster with centroid [2.73042903 5.90184625] contains:\n",
      " A0, A2, A4, A5, C2, C4, C5\n",
      " Cluster with centroid [7.86072759 6.85238384] contains:\n",
      " B4, B9\n",
      " Cluster with centroid [2.62504678 7.54800221] contains:\n",
      " A6, C0, C1, C3, C6, C7, C8, C9\n",
      " Cluster with centroid [5.83689283 5.23311955] contains:\n",
      " B3, B7, B8\n"
     ]
    },
    {
     "data": {
      "image/png": "[encoded data removed]",
      "text/plain": [
       "<matplotlib.figure.Figure at 0x113535e10>"
      ]
     },
     "metadata": {},
     "output_type": "display_data"
    }
   ],
   "source": [
    "contrivedTest(40, 6)\n",
    "\n",
    "\"\"\"\n",
    "このクラスタリングが最もフィットしている. つまり、最小の相違性を持っている.\n",
    "これは最前のクラスタリングという意味だろうか？\n",
    "必ずしもそういうわけではない.\n",
    "多項式の次数をあげると, データに過剰に適合してしまうので, 貧弱な予測値しか得られないモデルができてしまう危険がある.\n",
    "これは線形回帰の場合の多項式の正しい次数を選ぶことに似ている.\n",
    "kを決定する様々な発見的手法が存在する.\n",
    "\"\"\"\n",
    "pass"
   ]
  }
 ],
 "metadata": {
  "kernelspec": {
   "display_name": "Python 3",
   "language": "python",
   "name": "python3"
  },
  "language_info": {
   "codemirror_mode": {
    "name": "ipython",
    "version": 3
   },
   "file_extension": ".py",
   "mimetype": "text/x-python",
   "name": "python",
   "nbconvert_exporter": "python",
   "pygments_lexer": "ipython3",
   "version": "3.6.4"
  }
 },
 "nbformat": 4,
 "nbformat_minor": 2
}
