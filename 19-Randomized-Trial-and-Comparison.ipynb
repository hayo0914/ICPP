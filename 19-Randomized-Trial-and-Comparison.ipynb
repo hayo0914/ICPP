{
 "cells": [
  {
   "cell_type": "code",
   "execution_count": 1,
   "metadata": {},
   "outputs": [],
   "source": [
    "# ボストンマラソンデータの読み込み\n",
    "\n",
    "def getBMData(filename):\n",
    "    \"\"\"Read CSV File. The elements are as followes.\n",
    "    0. name, 1. gender, 2. age, 3. division(run or wheelchair), 4. country, 5. time\n",
    "    return value: dictionary of the 6 value's list\n",
    "    \"\"\"\n",
    "    data = {}\n",
    "    f = open(filename)\n",
    "    line = f.readline()\n",
    "    data['name'], data['gender'], data['age'] = [], [], []\n",
    "    data['division'], data['country'], data['time'] = [], [], []\n",
    "    while line != '':\n",
    "        split = line.split(',')\n",
    "        data['name'].append(split[0])                                                                                                                                                                                                                 \n",
    "        data['gender'].append(split[1])\n",
    "        data['age'].append(split[2])\n",
    "        data['division'].append(split[3])\n",
    "        data['country'].append(split[4])\n",
    "        data['time'].append(float(split[5][:-1])) # remove \\n\n",
    "        line = f.readline()\n",
    "    f.close()\n",
    "    return data"
   ]
  },
  {
   "cell_type": "code",
   "execution_count": 16,
   "metadata": {},
   "outputs": [
    {
     "name": "stdout",
     "output_type": "stream",
     "text": [
      "ITA and JPN have significantly different means, p-value = 0.025\n",
      "ITA Mean Time = 305.35\n",
      "JPN Mean Time= 265.68812500000007\n"
     ]
    }
   ],
   "source": [
    "# 多重仮説検定\n",
    "\n",
    "from scipy import stats\n",
    "\n",
    "data = getBMData('bm_results2012.txt')\n",
    "countriesToCompare = ['BEL', 'BRA', 'FRA', 'JPN', 'ITA']\n",
    "\n",
    "countryTimes = {}\n",
    "for i in range(len(data['name'])):\n",
    "    if data['country'][i] in countriesToCompare and data['gender'][i] == 'F':\n",
    "        try:\n",
    "            countryTimes[data['country'][i]].append(data['time'][i])\n",
    "        except KeyError:\n",
    "            countryTimes[data['country'][i]] = [data['time'][i]]\n",
    "\n",
    "for c1 in countriesToCompare:\n",
    "    for c2 in countriesToCompare:\n",
    "        if c1 < c2:\n",
    "            # equal_var = Falseは2つの母集団の分散が同じか分からないことを示す\n",
    "            pVal = stats.ttest_ind(countryTimes[c1], countryTimes[c2], equal_var = False)[1]\n",
    "            if pVal < 0.05:\n",
    "                print(c1, 'and', c2, 'have significantly different means, p-value =', round(pVal, 4))\n",
    "                print(c1, 'Mean Time =', sum(countryTimes[c1])/len(countryTimes[c1]))\n",
    "                print(c2, 'Mean Time=', sum(countryTimes[c2])/len(countryTimes[c2]))\n",
    "\n",
    "\"\"\"\n",
    "JPNのほうがITAよりも女性ランナーが早いと断定するのは早計だ.\n",
    "ある国のランナーが他の国よりも平均タイムが早かったのは確かだが, 一方で,\n",
    "標本サイズがとても小さく, 各国の女性マラソンランナーの能力を代表していないと思われる.\n",
    "\n",
    "有意水準を5%とすると, 20回に1度は誤って帰無仮説を棄却してしまう(有意であると判断してしまう)可能性がある.\n",
    "\n",
    "多重仮説を含む実験を行う場合、もっともシンプルで保守的に使われる手法はボンフェローニ補正(Bonferroni correction)である.\n",
    "その方法は各仮説を1/m*αのレベルで検定することである.\n",
    "\"\"\"\n",
    "pass"
   ]
  },
  {
   "cell_type": "code",
   "execution_count": 15,
   "metadata": {},
   "outputs": [
    {
     "name": "stdout",
     "output_type": "stream",
     "text": [
      "M Mean Time = 254.62222063264872\n",
      "F Mean Time = 274.88436879116006\n",
      "pvalue = 1.2505227805509697e-199\n"
     ]
    }
   ],
   "source": [
    "# p値検定\n",
    "# 性別による平均タイムの違いの有意性を検証する\n",
    "\n",
    "from scipy import stats\n",
    "\n",
    "data = getBMData('bm_results2012.txt')\n",
    "\n",
    "gengerTimes= {}\n",
    "for i in range(len(data['name'])):\n",
    "    try:\n",
    "        gengerTimes[data['gender'][i]].append(data['time'][i])\n",
    "    except KeyError:\n",
    "        gengerTimes[data['gender'][i]] = [data['time'][i]]\n",
    "\n",
    "for k in gengerTimes:\n",
    "    print(k, 'Mean Time =', sum(gengerTimes[k])/len(gengerTimes[k]))\n",
    "\n",
    "print('pvalue =', stats.ttest_ind(gengerTimes['M'], gengerTimes['F'], equal_var = False)[1])"
   ]
  }
 ],
 "metadata": {
  "kernelspec": {
   "display_name": "Python 3",
   "language": "python",
   "name": "python3"
  },
  "language_info": {
   "codemirror_mode": {
    "name": "ipython",
    "version": 3
   },
   "file_extension": ".py",
   "mimetype": "text/x-python",
   "name": "python",
   "nbconvert_exporter": "python",
   "pygments_lexer": "ipython3",
   "version": "3.6.4"
  }
 },
 "nbformat": 4,
 "nbformat_minor": 2
}
