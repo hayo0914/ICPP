{
 "cells": [
  {
   "cell_type": "code",
   "execution_count": 7,
   "metadata": {},
   "outputs": [],
   "source": [
    "def variance(X):\n",
    "    mean = sum(X)/len(X)\n",
    "    tot = 0.0\n",
    "    for x in X:\n",
    "        tot += (x-mean)**2\n",
    "    return tot/len(X)\n",
    "\n",
    "def stdDev(X):\n",
    "    return variance(X)**0.5\n"
   ]
  },
  {
   "cell_type": "code",
   "execution_count": 27,
   "metadata": {},
   "outputs": [],
   "source": [
    "import random\n",
    "\n",
    "# モンテカルロ法によって円周率を算出するシミュレーション\n",
    "# 2*2の正方形に内接する円に大量の針を落とし、円の中に刺さった針の数の割合を算出することにより、円の面積を算出する\n",
    "# 内接する円の面積はr^2*πであることから、1*1*π=円の面積=円周率となる\n",
    "def throwNeedles(numNeedles):\n",
    "    inCircle = 0\n",
    "    for Needles in range(1, numNeedles + 1):\n",
    "        x = random.random()\n",
    "        y = random.random()\n",
    "        if (x*x + y*y) ** 0.5 <= 1:\n",
    "            inCircle += 1\n",
    "    return 4 * inCircle/numNeedles\n",
    "\n",
    "def getEst(numNeedles, numTrials):\n",
    "    estimates = []\n",
    "    for t in range(numTrials):\n",
    "        piGuess = throwNeedles(numNeedles)\n",
    "        estimates.append(piGuess)\n",
    "    sDev = stdDev(estimates)\n",
    "    curEst = sum(estimates)/len(estimates)\n",
    "    print('Est. = ' + str(round(curEst, 5)) + ',',\n",
    "        'Std. dev. = ' + str(round(sDev, 5)) + ',',\n",
    "        'Needles = ' + str(numNeedles))\n",
    "    return (curEst, sDev)\n",
    "\n",
    "def estPi(precision, numTrials):\n",
    "    numNeedles = 1000\n",
    "    sDev = precision\n",
    "    # 正規分布に従う結果が得られるまで継続する\n",
    "    #\n",
    "    # [正規分布の経験則]\n",
    "    # 68.27%は標準偏差1つ分の範囲に収まる\n",
    "    # 95.45%は標準偏差2つ分の範囲に収まる\n",
    "    # 99.73%は標準偏差3つ分の範囲に収まる\n",
    "    # 95%は、標準偏差*1.96の範囲に収まる\n",
    "    # 以下の処理は、標準偏差*1.96が、指定の精度を下回るまで試行回数を増やして計算する\n",
    "    # つまり、95%の結果が指定の精度以下の範囲に収まるまで計算する\n",
    "    while sDev >= precision/1.96:\n",
    "        curEst, sDev = getEst(numNeedles, numTrials)\n",
    "        numNeedles *= 2\n",
    "    return curEst\n"
   ]
  },
  {
   "cell_type": "code",
   "execution_count": 28,
   "metadata": {},
   "outputs": [
    {
     "name": "stdout",
     "output_type": "stream",
     "text": [
      "Est. = 3.1426, Std. dev. = 0.06202, Needles = 1000\n",
      "Est. = 3.14404, Std. dev. = 0.03551, Needles = 2000\n",
      "Est. = 3.13749, Std. dev. = 0.02332, Needles = 4000\n",
      "Est. = 3.14115, Std. dev. = 0.01715, Needles = 8000\n",
      "Est. = 3.1426, Std. dev. = 0.0124, Needles = 16000\n",
      "Est. = 3.14136, Std. dev. = 0.00967, Needles = 32000\n",
      "Est. = 3.14199, Std. dev. = 0.00642, Needles = 64000\n",
      "Est. = 3.14152, Std. dev. = 0.00434, Needles = 128000\n"
     ]
    },
    {
     "data": {
      "text/plain": [
       "3.1415237499999993"
      ]
     },
     "execution_count": 28,
     "metadata": {},
     "output_type": "execute_result"
    }
   ],
   "source": [
    "estPi(0.01, 100)"
   ]
  }
 ],
 "metadata": {
  "kernelspec": {
   "display_name": "Python 3",
   "language": "python",
   "name": "python3"
  },
  "language_info": {
   "codemirror_mode": {
    "name": "ipython",
    "version": 3
   },
   "file_extension": ".py",
   "mimetype": "text/x-python",
   "name": "python",
   "nbconvert_exporter": "python",
   "pygments_lexer": "ipython3",
   "version": "3.6.4"
  }
 },
 "nbformat": 4,
 "nbformat_minor": 2
}
