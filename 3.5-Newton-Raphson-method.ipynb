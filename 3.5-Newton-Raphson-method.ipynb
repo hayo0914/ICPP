{
 "cells": [
  {
   "cell_type": "code",
   "execution_count": null,
   "metadata": {},
   "outputs": [],
   "source": [
    "\"\"\"\n",
    "ニュートンは, ある値(以降guess(推定値)と呼ぶ)が, 多項式の根の近似値である場合,\n",
    "guess - p(guess)/p'(guess)はさらに良い近似値であるという定理を証明した(p'はpの1次導関数).\n",
    "\n",
    "[導関数]\n",
    "ある関数f(x)から求められる微分の関数f’(x)をいう.\n",
    "\n",
    "[微分]\n",
    "連続したグラフにおいて接線の方程式(傾き,変化率)(平均変化率)を求めること.\n",
    "ただし、対象のグラフが連続しており、全てのxで微分可能であること,\n",
    "微分可能であること、とは、接線が１つに決まることが必要.\n",
    "よって1点において複数の接戦がありうるようなグラフは微分不可能\n",
    "(例えば, 直角が存在するグラフ)\n",
    "\n",
    "[微分の求め方]\n",
    "f’(a) = lim[h->0] f(a+h) - f(a))/h\n",
    "a=微分を求めるxの値\n",
    "\"\"\""
   ]
  },
  {
   "cell_type": "code",
   "execution_count": 11,
   "metadata": {},
   "outputs": [
    {
     "name": "stdout",
     "output_type": "stream",
     "text": [
      "Square root of 24.0 is about 4.8989887432139305\n"
     ]
    }
   ],
   "source": [
    "# 平方根を求めるためのニュートン-ラフソン法\n",
    "# x**2 - 24 = 0で誤差がepsion以下になるｘを求める\n",
    "# これを逐次近似という\n",
    "# x^2の一次導関数は2x\n",
    "epsilon = 0.01\n",
    "k = 24.0\n",
    "guess = k/2.0\n",
    "while abs(guess*guess - k) >= epsilon:\n",
    "    guess = guess - (((guess**2) - k)/(2*guess))\n",
    "print('Square root of', k, 'is about', guess)"
   ]
  }
 ],
 "metadata": {
  "kernelspec": {
   "display_name": "Python 3",
   "language": "python",
   "name": "python3"
  },
  "language_info": {
   "codemirror_mode": {
    "name": "ipython",
    "version": 3
   },
   "file_extension": ".py",
   "mimetype": "text/x-python",
   "name": "python",
   "nbconvert_exporter": "python",
   "pygments_lexer": "ipython3",
   "version": "3.6.4"
  }
 },
 "nbformat": 4,
 "nbformat_minor": 2
}
