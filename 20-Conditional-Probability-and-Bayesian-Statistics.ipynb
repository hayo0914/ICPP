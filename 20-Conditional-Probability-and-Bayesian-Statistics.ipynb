{
 "cells": [
  {
   "cell_type": "code",
   "execution_count": 50,
   "metadata": {},
   "outputs": [],
   "source": [
    "# 条件付き確率\n",
    "# P(A | B) = P(AかつB)/P(B)"
   ]
  },
  {
   "cell_type": "code",
   "execution_count": 49,
   "metadata": {},
   "outputs": [
    {
     "name": "stdout",
     "output_type": "stream",
     "text": [
      "answer = 0.8326\n"
     ]
    },
    {
     "data": {
      "image/png": "[encoded data removed]",
      "text/plain": [
       "<matplotlib.figure.Figure at 0x10f111208>"
      ]
     },
     "metadata": {},
     "output_type": "display_data"
    }
   ],
   "source": [
    "# ランダムに抽出されたアメリカ人が男性で体重が82kb以上である確率を推定する\n",
    "# ただしアメリカ人の50%は男性で, アメリカ男性の体重が平均95kg, 標準偏差14kgの正規分布に従うとする.\n",
    "\n",
    "import numpy as np\n",
    "import matplotlib.mlab as mlab\n",
    "import matplotlib.pyplot as pyplot\n",
    "\n",
    "def resolve():\n",
    "    mu = 95\n",
    "    sigma = 14\n",
    "    weights = np.linspace(1, 300, 300)\n",
    "    probs = mlab.normpdf(weights, mu, sigma)\n",
    "    pyplot.xlim(mu - sigma*4, mu + sigma*4)\n",
    "    pyplot.plot(weights, probs)\n",
    "    answer = 0\n",
    "    for w, p in zip(weights, probs):\n",
    "        if w >= 82:\n",
    "            answer += p\n",
    "    print(\"answer =\", round(answer, 4))\n",
    "\n",
    "resolve()"
   ]
  },
  {
   "cell_type": "code",
   "execution_count": 52,
   "metadata": {},
   "outputs": [],
   "source": [
    "\"\"\"\n",
    "[ベイズの定理]\n",
    "\n",
    "陽性かつ実際に乳がんである確率 = 0.9 = P(TP | Canc)\n",
    "陽性かつ誤診である確率 = 0.07 = P(FP | not Canc)\n",
    "\n",
    "乳がん検診で陽性と出た女性が自分の乳がんを疑う確率はどの程度になるか？\n",
    "この質問はある種のトリックである. なぜならば, この時点では, 正確な判断を下すに十分な情報が与えられていないからだ.\n",
    "実際には40歳の女性が乳がんを患うという事前確率(prior probability)を知る必要がある.\n",
    "40歳の乳がん検診を受ける女性が実際に乳がんである確率は0.008である.\n",
    "\n",
    "求めるべき情報は, ４０歳の女性が陽性の結果を受けた場合に, 実際に陽性である確率P(Canc | Pos)である.\n",
    "\n",
    "ベイズの定理\n",
    "P(A | B) = P(A) * P(B | A)/P(B)\n",
    "\n",
    "ベイズの定理により, 40際の受診女性が陽性の判定を受け、実際に乳がんである確率を推定する.\n",
    "ベイズの定理から\n",
    "P(Canc | Pos) = P(Canc) * P(Pos | Canc) / P(Pos)\n",
    "を得る.\n",
    "\n",
    "すると陽性の結果を受け取る確率は, \n",
    "P(Pos | Canc) * P(Canc) + P(Pos | not Canc) * (1 - P(Canc))\n",
    "であるから,\n",
    "\n",
    "P(Canc | Pos) = 0.008 * 0.9 / (0.8*0.008 + 0.07*0.992) = 0.094\n",
    "\n",
    "すなわち, 検診で陽性結果が出た４０歳女性の90%は誤診となる.\n",
    "\"\"\"\n",
    "pass"
   ]
  }
 ],
 "metadata": {
  "kernelspec": {
   "display_name": "Python 3",
   "language": "python",
   "name": "python3"
  },
  "language_info": {
   "codemirror_mode": {
    "name": "ipython",
    "version": 3
   },
   "file_extension": ".py",
   "mimetype": "text/x-python",
   "name": "python",
   "nbconvert_exporter": "python",
   "pygments_lexer": "ipython3",
   "version": "3.6.4"
  }
 },
 "nbformat": 4,
 "nbformat_minor": 2
}
